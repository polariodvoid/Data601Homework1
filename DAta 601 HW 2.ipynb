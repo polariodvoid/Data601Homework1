{
 "cells": [
  {
   "cell_type": "markdown",
   "metadata": {},
   "source": [
    "The assignment for class was to perform a exploratory analysis of data that we collected either by webscraping or using an API\n",
    "The data I chose was from Spotify exploring data about West african music. i am of Nigerian descent and my parents are both from Lagos, Nigeria. \n",
    "Everytime I go parties with a strong Nigerian influence, I am surrounded by these sounds and vibrations that i dont hear on the radio or from my friends who aren't knowledgeable of Nigerian culture.\n",
    "I wanted to understand the music a bit more and gain a better understanding of what makes the music so distinct. Is it the instruments specfically the drums and guitars giving the listener a strong urge to dance?\n",
    "In my project, I want to explore the audio features of West African music, specfically the instrumentalness in relation to the dancability."
   ]
  },
  {
   "cell_type": "code",
   "execution_count": 1,
   "metadata": {},
   "outputs": [
    {
     "name": "stdout",
     "output_type": "stream",
     "text": [
      "Requirement already satisfied: spotipy in ./opt/anaconda3/lib/python3.8/site-packages (2.16.0)\n",
      "Requirement already satisfied: six>=1.10.0 in ./opt/anaconda3/lib/python3.8/site-packages (from spotipy) (1.15.0)\n",
      "Requirement already satisfied: requests>=2.20.0 in ./opt/anaconda3/lib/python3.8/site-packages (from spotipy) (2.24.0)\n",
      "Requirement already satisfied: certifi>=2017.4.17 in ./opt/anaconda3/lib/python3.8/site-packages (from requests>=2.20.0->spotipy) (2020.6.20)\n",
      "Requirement already satisfied: idna<3,>=2.5 in ./opt/anaconda3/lib/python3.8/site-packages (from requests>=2.20.0->spotipy) (2.10)\n",
      "Requirement already satisfied: chardet<4,>=3.0.2 in ./opt/anaconda3/lib/python3.8/site-packages (from requests>=2.20.0->spotipy) (3.0.4)\n",
      "Requirement already satisfied: urllib3!=1.25.0,!=1.25.1,<1.26,>=1.21.1 in ./opt/anaconda3/lib/python3.8/site-packages (from requests>=2.20.0->spotipy) (1.25.9)\n",
      "Note: you may need to restart the kernel to use updated packages.\n"
     ]
    }
   ],
   "source": [
    "pip install spotipy\n"
   ]
  },
  {
   "cell_type": "markdown",
   "metadata": {},
   "source": [
    "Spotipy had to be installed, as well as pandas, numpy, and seaborn. The other libraries besides Spotipy is already included with Anaconda. \n",
    " "
   ]
  },
  {
   "cell_type": "code",
   "execution_count": 2,
   "metadata": {},
   "outputs": [],
   "source": [
    "\n",
    "import spotipy\n",
    "from spotipy.oauth2 import SpotifyClientCredentials\n",
    "##hide cred when posted \n",
    "\n",
    "cid = '1fdca4b9b28646fabb6940c14750d24b'\n",
    "secret = '0a6efc2da30d4d29a3d1b1b0c2d99106'\n",
    "#CID = config[cid]\n",
    "#Seceret = config[secret]\n",
    "        \n",
    "\n",
    "## for other users please replace CID and SECRET with your creds\n",
    "client_credentials_manager = SpotifyClientCredentials(client_id=cid, client_secret=secret)\n",
    "sp = spotipy.Spotify(client_credentials_manager\n",
    "=\n",
    "client_credentials_manager)"
   ]
  },
  {
   "cell_type": "markdown",
   "metadata": {},
   "source": [
    "I want to explore this playlsit specifally, since this is the playlist I listen to when I'm feeling down or need motivation (I'm listening to it now) and it would give me insight into if there is something I specfically like about it, like a considerabley low or high value with a feature. The next cell allows the user to explore the actual meta data file.   \n"
   ]
  },
  {
   "cell_type": "code",
   "execution_count": 3,
   "metadata": {},
   "outputs": [],
   "source": [
    "#sp.user_playlist_tracks(\"jonasfromfalun\", \"5kfE1hGYhu97qxW3n6h4S6\")"
   ]
  },
  {
   "cell_type": "code",
   "execution_count": 4,
   "metadata": {},
   "outputs": [],
   "source": [
    "def playlistdata(creator, playlist_id):\n",
    "    \n",
    "    # Create empty dataframe\n",
    "    playlistfeatures = [\"artist\",\"album\",\"track_name\",  \"track_id\",\"danceability\",\"energy\",\"key\",\"loudness\",\"mode\", \"speechiness\",\"instrumentalness\",\"liveness\",\"valence\",\"tempo\", \"duration_ms\",\"time_signature\"]\n",
    "    \n",
    "    musictable = pd.DataFrame(columns = playlistfeatures)\n",
    "    \n",
    "    # Loop through every track in the playlist, extract features and append the features to the playlist df\n",
    "    \n",
    "    playlist = sp.user_playlist_tracks(creator, playlist_id)[\"items\"]\n",
    "    for track in playlist:\n",
    "        # Create empty dict\n",
    "        playlist_features = {}\n",
    "        # Get data, that is loaded into the dict\n",
    "        playlist_features[\"artist\"] = track[\"track\"][\"album\"][\"artists\"][0][\"name\"]\n",
    "        playlist_features[\"album\"] = track[\"track\"][\"album\"][\"name\"]\n",
    "        playlist_features[\"track_name\"] = track[\"track\"][\"name\"]\n",
    "        playlist_features[\"track_id\"] = track[\"track\"][\"id\"]\n",
    "        \n",
    "        # Get audio features, this is where the actual loop is made \n",
    "        audio_features = sp.audio_features(playlist_features[\"track_id\"])[0]\n",
    "        for feature in playlistfeatures[4:]:\n",
    "            playlist_features[feature] = audio_features[feature]\n",
    "        \n",
    "        # Concat the dfs,basically puts everthing together using Pandas\n",
    "        track_df = pd.DataFrame(playlist_features, index = [0])\n",
    "        musictable = pd.concat([musictable, track_df], ignore_index = True)\n",
    "        \n",
    "    return musictable"
   ]
  },
  {
   "cell_type": "code",
   "execution_count": 5,
   "metadata": {},
   "outputs": [
    {
     "data": {
      "text/html": [
       "<div>\n",
       "<style scoped>\n",
       "    .dataframe tbody tr th:only-of-type {\n",
       "        vertical-align: middle;\n",
       "    }\n",
       "\n",
       "    .dataframe tbody tr th {\n",
       "        vertical-align: top;\n",
       "    }\n",
       "\n",
       "    .dataframe thead th {\n",
       "        text-align: right;\n",
       "    }\n",
       "</style>\n",
       "<table border=\"1\" class=\"dataframe\">\n",
       "  <thead>\n",
       "    <tr style=\"text-align: right;\">\n",
       "      <th></th>\n",
       "      <th>artist</th>\n",
       "      <th>album</th>\n",
       "      <th>track_name</th>\n",
       "      <th>track_id</th>\n",
       "      <th>danceability</th>\n",
       "      <th>energy</th>\n",
       "      <th>key</th>\n",
       "      <th>loudness</th>\n",
       "      <th>mode</th>\n",
       "      <th>speechiness</th>\n",
       "      <th>instrumentalness</th>\n",
       "      <th>liveness</th>\n",
       "      <th>valence</th>\n",
       "      <th>tempo</th>\n",
       "      <th>duration_ms</th>\n",
       "      <th>time_signature</th>\n",
       "    </tr>\n",
       "  </thead>\n",
       "  <tbody>\n",
       "    <tr>\n",
       "      <th>0</th>\n",
       "      <td>Celestine Ukwu &amp; His Philosophers National</td>\n",
       "      <td>Celestine Ukwu &amp; His Philosophers National</td>\n",
       "      <td>Na Nchekwube Mma Anyi Egbuna Anyi</td>\n",
       "      <td>6juKcgi75Q5uFWDyAZr1Mq</td>\n",
       "      <td>0.450</td>\n",
       "      <td>0.622</td>\n",
       "      <td>0</td>\n",
       "      <td>-5.849</td>\n",
       "      <td>1</td>\n",
       "      <td>0.0411</td>\n",
       "      <td>0.000010</td>\n",
       "      <td>0.1380</td>\n",
       "      <td>0.738</td>\n",
       "      <td>179.203</td>\n",
       "      <td>377640</td>\n",
       "      <td>3</td>\n",
       "    </tr>\n",
       "    <tr>\n",
       "      <th>1</th>\n",
       "      <td>T. P. Orchestre Poly-Rythmo</td>\n",
       "      <td>The Kings of Benin Urban Groove 1972 - 80</td>\n",
       "      <td>Gendamou Na Wili We Gnannin</td>\n",
       "      <td>3YLHbTeEBFvEBWZQATebxE</td>\n",
       "      <td>0.654</td>\n",
       "      <td>0.610</td>\n",
       "      <td>5</td>\n",
       "      <td>-9.846</td>\n",
       "      <td>0</td>\n",
       "      <td>0.0485</td>\n",
       "      <td>0.007190</td>\n",
       "      <td>0.0843</td>\n",
       "      <td>0.953</td>\n",
       "      <td>87.433</td>\n",
       "      <td>372347</td>\n",
       "      <td>4</td>\n",
       "    </tr>\n",
       "    <tr>\n",
       "      <th>2</th>\n",
       "      <td>Marijata</td>\n",
       "      <td>This Is Marijata</td>\n",
       "      <td>I Walk Alone</td>\n",
       "      <td>6sVm6ik1mXyXlDFexORZpQ</td>\n",
       "      <td>0.565</td>\n",
       "      <td>0.433</td>\n",
       "      <td>4</td>\n",
       "      <td>-14.970</td>\n",
       "      <td>0</td>\n",
       "      <td>0.0393</td>\n",
       "      <td>0.225000</td>\n",
       "      <td>0.0909</td>\n",
       "      <td>0.746</td>\n",
       "      <td>137.269</td>\n",
       "      <td>644440</td>\n",
       "      <td>4</td>\n",
       "    </tr>\n",
       "    <tr>\n",
       "      <th>3</th>\n",
       "      <td>Various Artists</td>\n",
       "      <td>Golden Afrique, vol. 1 (Bolibana Collection)</td>\n",
       "      <td>Thiely</td>\n",
       "      <td>2QbgkbCilqYgE7uItsTmf0</td>\n",
       "      <td>0.813</td>\n",
       "      <td>0.566</td>\n",
       "      <td>1</td>\n",
       "      <td>-6.986</td>\n",
       "      <td>0</td>\n",
       "      <td>0.0588</td>\n",
       "      <td>0.000007</td>\n",
       "      <td>0.1730</td>\n",
       "      <td>0.957</td>\n",
       "      <td>147.427</td>\n",
       "      <td>249627</td>\n",
       "      <td>4</td>\n",
       "    </tr>\n",
       "    <tr>\n",
       "      <th>4</th>\n",
       "      <td>Various Artists</td>\n",
       "      <td>Golden Afrique, vol. 1 (Bolibana Collection)</td>\n",
       "      <td>Yaye Boye</td>\n",
       "      <td>5acvGp7BKrh2pFw8WpgYNi</td>\n",
       "      <td>0.604</td>\n",
       "      <td>0.416</td>\n",
       "      <td>1</td>\n",
       "      <td>-8.559</td>\n",
       "      <td>0</td>\n",
       "      <td>0.0405</td>\n",
       "      <td>0.200000</td>\n",
       "      <td>0.1070</td>\n",
       "      <td>0.609</td>\n",
       "      <td>91.036</td>\n",
       "      <td>296000</td>\n",
       "      <td>4</td>\n",
       "    </tr>\n",
       "  </tbody>\n",
       "</table>\n",
       "</div>"
      ],
      "text/plain": [
       "                                       artist  \\\n",
       "0  Celestine Ukwu & His Philosophers National   \n",
       "1                 T. P. Orchestre Poly-Rythmo   \n",
       "2                                    Marijata   \n",
       "3                             Various Artists   \n",
       "4                             Various Artists   \n",
       "\n",
       "                                          album  \\\n",
       "0    Celestine Ukwu & His Philosophers National   \n",
       "1     The Kings of Benin Urban Groove 1972 - 80   \n",
       "2                              This Is Marijata   \n",
       "3  Golden Afrique, vol. 1 (Bolibana Collection)   \n",
       "4  Golden Afrique, vol. 1 (Bolibana Collection)   \n",
       "\n",
       "                          track_name                track_id  danceability  \\\n",
       "0  Na Nchekwube Mma Anyi Egbuna Anyi  6juKcgi75Q5uFWDyAZr1Mq         0.450   \n",
       "1        Gendamou Na Wili We Gnannin  3YLHbTeEBFvEBWZQATebxE         0.654   \n",
       "2                       I Walk Alone  6sVm6ik1mXyXlDFexORZpQ         0.565   \n",
       "3                             Thiely  2QbgkbCilqYgE7uItsTmf0         0.813   \n",
       "4                          Yaye Boye  5acvGp7BKrh2pFw8WpgYNi         0.604   \n",
       "\n",
       "   energy key  loudness mode  speechiness  instrumentalness  liveness  \\\n",
       "0   0.622   0    -5.849    1       0.0411          0.000010    0.1380   \n",
       "1   0.610   5    -9.846    0       0.0485          0.007190    0.0843   \n",
       "2   0.433   4   -14.970    0       0.0393          0.225000    0.0909   \n",
       "3   0.566   1    -6.986    0       0.0588          0.000007    0.1730   \n",
       "4   0.416   1    -8.559    0       0.0405          0.200000    0.1070   \n",
       "\n",
       "   valence    tempo duration_ms time_signature  \n",
       "0    0.738  179.203      377640              3  \n",
       "1    0.953   87.433      372347              4  \n",
       "2    0.746  137.269      644440              4  \n",
       "3    0.957  147.427      249627              4  \n",
       "4    0.609   91.036      296000              4  "
      ]
     },
     "execution_count": 5,
     "metadata": {},
     "output_type": "execute_result"
    }
   ],
   "source": [
    "import pandas as pd\n",
    "df = playlistdata(\"jonasfromfalun\", \"5kfE1hGYhu97qxW3n6h4S6\")\n",
    "df.head()\n",
    "\n",
    "\n"
   ]
  },
  {
   "cell_type": "markdown",
   "metadata": {},
   "source": [
    "df is converted from a dataframe to a csv.  \n"
   ]
  },
  {
   "cell_type": "code",
   "execution_count": 6,
   "metadata": {},
   "outputs": [],
   "source": [
    "df.to_csv(\"data.csv\", index = False)"
   ]
  },
  {
   "cell_type": "markdown",
   "metadata": {},
   "source": [
    "Numpy and Pandas are imported for this code here. Now we need to actually read over the values we got for each song's features, numpy is used first than followed by seaborn since its a bit more indepth from my understanding. \n",
    "\n"
   ]
  },
  {
   "cell_type": "code",
   "execution_count": 7,
   "metadata": {},
   "outputs": [
    {
     "data": {
      "text/plain": [
       "<matplotlib.axes._subplots.AxesSubplot at 0x7f946741f5b0>"
      ]
     },
     "execution_count": 7,
     "metadata": {},
     "output_type": "execute_result"
    },
    {
     "data": {
      "image/png": "[encoded data removed]",
      "text/plain": [
       "<Figure size 432x288 with 1 Axes>"
      ]
     },
     "metadata": {
      "needs_background": "light"
     },
     "output_type": "display_data"
    }
   ],
   "source": [
    "import numpy as np\n",
    "\n",
    "import pandas as pd\n",
    "\n",
    "df.plot.scatter(x='instrumentalness', y='danceability', title='Instrumentalness and Danceability')\n",
    " "
   ]
  },
  {
   "cell_type": "markdown",
   "metadata": {},
   "source": [
    "From our scatterplot using Numpy, we see that the sonds instrumentalness, is actually quite low. With most songs instrumentalness being around 0. Danceability has a nice spread. This is suprising to me, since I boogie to most songs on the playlist. \n",
    "This shows there is not a relationship between Instrumentalness and danceability "
   ]
  },
  {
   "cell_type": "code",
   "execution_count": 8,
   "metadata": {},
   "outputs": [
    {
     "data": {
      "text/plain": [
       "array([[<matplotlib.axes._subplots.AxesSubplot object at 0x7f94678879a0>]],\n",
       "      dtype=object)"
      ]
     },
     "execution_count": 8,
     "metadata": {},
     "output_type": "execute_result"
    },
    {
     "data": {
      "image/png": "[encoded data removed]",
      "text/plain": [
       "<Figure size 432x288 with 1 Axes>"
      ]
     },
     "metadata": {
      "needs_background": "light"
     },
     "output_type": "display_data"
    },
    {
     "data": {
      "image/png": "[encoded data removed]",
      "text/plain": [
       "<Figure size 432x288 with 1 Axes>"
      ]
     },
     "metadata": {
      "needs_background": "light"
     },
     "output_type": "display_data"
    },
    {
     "data": {
      "image/png": "[encoded data removed]",
      "text/plain": [
       "<Figure size 432x288 with 1 Axes>"
      ]
     },
     "metadata": {
      "needs_background": "light"
     },
     "output_type": "display_data"
    },
    {
     "data": {
      "image/png": "[encoded data removed]",
      "text/plain": [
       "<Figure size 432x288 with 1 Axes>"
      ]
     },
     "metadata": {
      "needs_background": "light"
     },
     "output_type": "display_data"
    },
    {
     "data": {
      "image/png": "[encoded data removed]",
      "text/plain": [
       "<Figure size 432x288 with 1 Axes>"
      ]
     },
     "metadata": {
      "needs_background": "light"
     },
     "output_type": "display_data"
    },
    {
     "data": {
      "image/png": "[encoded data removed]",
      "text/plain": [
       "<Figure size 432x288 with 1 Axes>"
      ]
     },
     "metadata": {
      "needs_background": "light"
     },
     "output_type": "display_data"
    },
    {
     "data": {
      "image/png": "[encoded data removed]",
      "text/plain": [
       "<Figure size 432x288 with 1 Axes>"
      ]
     },
     "metadata": {
      "needs_background": "light"
     },
     "output_type": "display_data"
    },
    {
     "data": {
      "image/png": "[encoded data removed]",
      "text/plain": [
       "<Figure size 432x288 with 1 Axes>"
      ]
     },
     "metadata": {
      "needs_background": "light"
     },
     "output_type": "display_data"
    },
    {
     "data": {
      "image/png": "[encoded data removed]",
      "text/plain": [
       "<Figure size 432x288 with 1 Axes>"
      ]
     },
     "metadata": {
      "needs_background": "light"
     },
     "output_type": "display_data"
    },
    {
     "data": {
      "image/png": "[encoded data removed]",
      "text/plain": [
       "<Figure size 432x288 with 1 Axes>"
      ]
     },
     "metadata": {
      "needs_background": "light"
     },
     "output_type": "display_data"
    },
    {
     "data": {
      "image/png": "[encoded data removed]",
      "text/plain": [
       "<Figure size 432x288 with 1 Axes>"
      ]
     },
     "metadata": {
      "needs_background": "light"
     },
     "output_type": "display_data"
    }
   ],
   "source": [
    "#df.plot.hist(subplots=True, layout=(12,1), figsize=(50, 20), bins=70)\n",
    "df.hist(column='danceability')\n",
    "df.hist(column='energy')\n",
    "df.key=pd.to_numeric(df.key)\n",
    "\n",
    "df.hist(column='key')\n",
    "df.hist(column='loudness')\n",
    "df.hist(column='speechiness')\n",
    "df.hist(column='instrumentalness')\n",
    "df.hist(column='liveness')\n",
    "df.hist(column='valence')\n",
    "df.hist(column='tempo')\n",
    "df.duration_ms=pd.to_numeric(df.duration_ms)\n",
    "df.hist(column='duration_ms')\n",
    "df.time_signature=pd.to_numeric(df.time_signature)\n",
    "df.hist(column='time_signature')"
   ]
  },
  {
   "cell_type": "markdown",
   "metadata": {},
   "source": [
    "I thought the histogram would give us a better understanding but this is more so see the presence of certain features.\n",
    "Each feature is present in every song as it should, this was not needed. A bar graph comparing American songs to West African songs would be better in this case. "
   ]
  },
  {
   "cell_type": "code",
   "execution_count": 9,
   "metadata": {},
   "outputs": [],
   "source": [
    "import seaborn as sns\n"
   ]
  },
  {
   "cell_type": "code",
   "execution_count": 10,
   "metadata": {},
   "outputs": [
    {
     "data": {
      "text/plain": [
       "<matplotlib.axes._subplots.AxesSubplot at 0x7f94690f5490>"
      ]
     },
     "execution_count": 10,
     "metadata": {},
     "output_type": "execute_result"
    },
    {
     "data": {
      "image/png": "[encoded data removed]",
      "text/plain": [
       "<Figure size 432x288 with 1 Axes>"
      ]
     },
     "metadata": {
      "needs_background": "light"
     },
     "output_type": "display_data"
    }
   ],
   "source": [
    "sns.scatterplot(x='danceability', y='instrumentalness', data=df)"
   ]
  },
  {
   "cell_type": "markdown",
   "metadata": {},
   "source": [
    "Seaborn is used here, just to see if more details could be found. We see the same results compared to the pandas graph. The axes are inverted here. We still see the limited instrumentalness. "
   ]
  },
  {
   "cell_type": "markdown",
   "metadata": {},
   "source": [
    "From our findings, we have seen that there isnt really a relationship between the instrumentalness and the danceability when it come to West African music.\n",
    "#I was limited in my knowledge Python and would have liked to compare American music data to West African\n",
    "#Sources that were used were mostly from Towards data science and Medium. \n",
    "#Specfically: https://medium.com/@maxtingle/getting-started-with-spotifys-api-spotipy-197c3dc6353b\n",
    "#https://medium.com/better-programming/how-to-extract-any-artists-data-using-spotify-s-api-python-and-spotipy-4c079401bc37"
   ]
  }
 ],
 "metadata": {
  "kernelspec": {
   "display_name": "Python 3",
   "language": "python",
   "name": "python3"
  },
  "language_info": {
   "codemirror_mode": {
    "name": "ipython",
    "version": 3
   },
   "file_extension": ".py",
   "mimetype": "text/x-python",
   "name": "python",
   "nbconvert_exporter": "python",
   "pygments_lexer": "ipython3",
   "version": "3.8.3"
  }
 },
 "nbformat": 4,
 "nbformat_minor": 4
}
